{
 "cells": [
  {
   "cell_type": "code",
   "execution_count": null,
   "metadata": {},
   "outputs": [],
   "source": [
    "import random\n",
    "from helper import *\n",
    "\n",
    "def stochastic_gradient_descent(f, initial_point, learning_rate=0.1, max_epochs=1000, minimum = 0.0, epsilon=1e-5, batch_size=1, apply_min=False):\n",
    "    \"\"\"\n",
    "    Cтохастический градиентный спуск для поиска минимума функции.\n",
    "\n",
    "    Аргументы:\n",
    "        f (function): Изначальная функция.\n",
    "        grad_fn (function): Функция, которая принимает точку и возвращает градиент в этой точке.\n",
    "        initial_point (list): Начальную точка, с которой начинается поиск.\n",
    "        learning_rate (float): Скорость обучения или шаг градиентного спуска.\n",
    "        max_epochs (int): Максимальное количество эпох или итераций для выполнения алгоритма.\n",
    "        minimum (float): Минимум функции.\n",
    "        epsilon (float): Малое число, используемое как критерий останова для алгоритма.\n",
    "        batch_size (int): кол-во координат по которым вычисляется градиент\n",
    "    Возвращает:\n",
    "        Кортеж, содержащий найденную минимальную точку, значение функции в этой точке и список всех точек, посещенных во время алгоритма.\n",
    "    \"\"\"\n",
    "\n",
    "    batch_size = min(batch_size, len(initial_point))\n",
    "\n",
    "    current_point = initial_point.copy()  # текущая точка, инициализируется начальной точкой\n",
    "    current_value = f(current_point)  # значение функции в текущей точке\n",
    "    visited_points = [current_point.copy()]  # список посещенных точек, начинается с начальной точки\n",
    "    for _ in range(max_epochs):  # цикл по эпохам\n",
    "        if apply_min and abs(current_value - minimum) < epsilon:\n",
    "            # если достигнуто достаточно малое значение функции, то останавливаемся\n",
    "            break\n",
    "        prev_point = np.copy(current_point)\n",
    "        for _ in range(batch_size):\n",
    "            random_index = random.randint(0, len(current_point) - 1)\n",
    "            # выбираем случайный индекс измерения\n",
    "            gradient_random_index = fast_gradient(f, current_point,\n",
    "                                                  random_index)\n",
    "            # вычисляем градиент в текущей точке в случайном индексе\n",
    "            current_point[random_index] -= learning_rate * gradient_random_index  # обновляем текущую точку\n",
    "\n",
    "        new_value = f(current_point)  # вычисляем значение функции в обновленной точке\n",
    "        if new_value < current_value:\n",
    "            # если значение функции в обновленной точке меньше, чем в предыдущей, то продолжаем движение\n",
    "            current_value = new_value\n",
    "        else:  # если значение функции больше или не изменилось, то возвращаемся к предыдущей точке\n",
    "            current_point = prev_point\n",
    "        visited_points.append(current_point.copy())  # добавляем текущую точку в список посещенных\n",
    "    return current_point, current_value, visited_points  # возвращаем результат работы функции"
   ]
  }
 ],
 "metadata": {
  "language_info": {
   "name": "python"
  },
  "orig_nbformat": 4
 },
 "nbformat": 4,
 "nbformat_minor": 2
}
